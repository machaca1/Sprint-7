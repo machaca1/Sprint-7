{
 "cells": [
  {
   "cell_type": "code",
   "execution_count": 1,
   "id": "45771f8f",
   "metadata": {},
   "outputs": [
    {
     "data": {
      "text/html": [
       "<div>\n",
       "<style scoped>\n",
       "    .dataframe tbody tr th:only-of-type {\n",
       "        vertical-align: middle;\n",
       "    }\n",
       "\n",
       "    .dataframe tbody tr th {\n",
       "        vertical-align: top;\n",
       "    }\n",
       "\n",
       "    .dataframe thead th {\n",
       "        text-align: right;\n",
       "    }\n",
       "</style>\n",
       "<table border=\"1\" class=\"dataframe\">\n",
       "  <thead>\n",
       "    <tr style=\"text-align: right;\">\n",
       "      <th></th>\n",
       "      <th>Alcohol</th>\n",
       "      <th>Malic</th>\n",
       "      <th>acid</th>\n",
       "      <th>Ash</th>\n",
       "      <th>Alcalinity of ash</th>\n",
       "      <th>Magnesium</th>\n",
       "      <th>Total phenols</th>\n",
       "      <th>Flavanoids</th>\n",
       "      <th>Nonflavanoid phenols</th>\n",
       "      <th>Proanthocyanins</th>\n",
       "      <th>Color intensity</th>\n",
       "      <th>Hue</th>\n",
       "      <th>OD280/OD315 of diluted wines</th>\n",
       "      <th>Proline</th>\n",
       "    </tr>\n",
       "  </thead>\n",
       "  <tbody>\n",
       "    <tr>\n",
       "      <th>0</th>\n",
       "      <td>1</td>\n",
       "      <td>14.23</td>\n",
       "      <td>1.71</td>\n",
       "      <td>2.43</td>\n",
       "      <td>15.6</td>\n",
       "      <td>127</td>\n",
       "      <td>2.80</td>\n",
       "      <td>3.06</td>\n",
       "      <td>0.28</td>\n",
       "      <td>2.29</td>\n",
       "      <td>5.64</td>\n",
       "      <td>1.04</td>\n",
       "      <td>3.92</td>\n",
       "      <td>1065</td>\n",
       "    </tr>\n",
       "    <tr>\n",
       "      <th>1</th>\n",
       "      <td>1</td>\n",
       "      <td>13.20</td>\n",
       "      <td>1.78</td>\n",
       "      <td>2.14</td>\n",
       "      <td>11.2</td>\n",
       "      <td>100</td>\n",
       "      <td>2.65</td>\n",
       "      <td>2.76</td>\n",
       "      <td>0.26</td>\n",
       "      <td>1.28</td>\n",
       "      <td>4.38</td>\n",
       "      <td>1.05</td>\n",
       "      <td>3.40</td>\n",
       "      <td>1050</td>\n",
       "    </tr>\n",
       "    <tr>\n",
       "      <th>2</th>\n",
       "      <td>1</td>\n",
       "      <td>13.16</td>\n",
       "      <td>2.36</td>\n",
       "      <td>2.67</td>\n",
       "      <td>18.6</td>\n",
       "      <td>101</td>\n",
       "      <td>2.80</td>\n",
       "      <td>3.24</td>\n",
       "      <td>0.30</td>\n",
       "      <td>2.81</td>\n",
       "      <td>5.68</td>\n",
       "      <td>1.03</td>\n",
       "      <td>3.17</td>\n",
       "      <td>1185</td>\n",
       "    </tr>\n",
       "    <tr>\n",
       "      <th>3</th>\n",
       "      <td>1</td>\n",
       "      <td>14.37</td>\n",
       "      <td>1.95</td>\n",
       "      <td>2.50</td>\n",
       "      <td>16.8</td>\n",
       "      <td>113</td>\n",
       "      <td>3.85</td>\n",
       "      <td>3.49</td>\n",
       "      <td>0.24</td>\n",
       "      <td>2.18</td>\n",
       "      <td>7.80</td>\n",
       "      <td>0.86</td>\n",
       "      <td>3.45</td>\n",
       "      <td>1480</td>\n",
       "    </tr>\n",
       "    <tr>\n",
       "      <th>4</th>\n",
       "      <td>1</td>\n",
       "      <td>13.24</td>\n",
       "      <td>2.59</td>\n",
       "      <td>2.87</td>\n",
       "      <td>21.0</td>\n",
       "      <td>118</td>\n",
       "      <td>2.80</td>\n",
       "      <td>2.69</td>\n",
       "      <td>0.39</td>\n",
       "      <td>1.82</td>\n",
       "      <td>4.32</td>\n",
       "      <td>1.04</td>\n",
       "      <td>2.93</td>\n",
       "      <td>735</td>\n",
       "    </tr>\n",
       "  </tbody>\n",
       "</table>\n",
       "</div>"
      ],
      "text/plain": [
       "   Alcohol  Malic  acid   Ash  Alcalinity of ash  Magnesium  Total phenols  \\\n",
       "0        1  14.23  1.71  2.43               15.6        127           2.80   \n",
       "1        1  13.20  1.78  2.14               11.2        100           2.65   \n",
       "2        1  13.16  2.36  2.67               18.6        101           2.80   \n",
       "3        1  14.37  1.95  2.50               16.8        113           3.85   \n",
       "4        1  13.24  2.59  2.87               21.0        118           2.80   \n",
       "\n",
       "   Flavanoids  Nonflavanoid phenols  Proanthocyanins  Color intensity   Hue  \\\n",
       "0        3.06                  0.28             2.29             5.64  1.04   \n",
       "1        2.76                  0.26             1.28             4.38  1.05   \n",
       "2        3.24                  0.30             2.81             5.68  1.03   \n",
       "3        3.49                  0.24             2.18             7.80  0.86   \n",
       "4        2.69                  0.39             1.82             4.32  1.04   \n",
       "\n",
       "   OD280/OD315 of diluted wines  Proline  \n",
       "0                          3.92     1065  \n",
       "1                          3.40     1050  \n",
       "2                          3.17     1185  \n",
       "3                          3.45     1480  \n",
       "4                          2.93      735  "
      ]
     },
     "execution_count": 1,
     "metadata": {},
     "output_type": "execute_result"
    }
   ],
   "source": [
    "import pandas as pd\n",
    "data = pd.read_csv('WineData.txt', sep=',', header=None )\n",
    "data.columns=['Alcohol','Malic', 'acid','Ash','Alcalinity of ash','Magnesium','Total phenols','Flavanoids','Nonflavanoid phenols','Proanthocyanins','Color intensity','Hue','OD280/OD315 of diluted wines','Proline']\n",
    "data.head()"
   ]
  },
  {
   "cell_type": "code",
   "execution_count": 2,
   "id": "2820c1e0",
   "metadata": {},
   "outputs": [],
   "source": [
    "#Para evitar el spam de los Future Warinigs que aparecen durante el ejercicio los voy a ocultar\n",
    "\n",
    "# import warnings filter\n",
    "from warnings import simplefilter\n",
    "# ignore all future warnings\n",
    "simplefilter(action='ignore', category=FutureWarning)"
   ]
  },
  {
   "cell_type": "markdown",
   "id": "7ba68105",
   "metadata": {},
   "source": [
    "# - Exercici 1\n",
    "\n",
    "Crea almenys dos models de classificació diferents per intentar predir el millor les classes de l'arxiu adjunt.\n",
    "\n",
    "## - Exercici 2\n",
    "\n",
    "Compara els models de classificació utilitzant la precisió (accuracy), una matriu de confusió i d’altres mètriques més avançades."
   ]
  },
  {
   "cell_type": "code",
   "execution_count": 3,
   "id": "59c7ed3f",
   "metadata": {},
   "outputs": [],
   "source": [
    "# Modelo 1\n",
    "#KNN Regression Classification\n",
    "\n",
    "#Preprocessing Data for Classification\n",
    "y = data['Alcohol']\n",
    "X = data.drop(['Alcohol'], axis=1)\n",
    "\n",
    "#Splitting Data into Train and Test Sets\n",
    "from sklearn.model_selection import train_test_split\n",
    "X_train, X_test, y_train, y_test = train_test_split(X, y, test_size=0.25, random_state=42)\n",
    "\n",
    "#Feature Scaling for Classification\n",
    "from sklearn.preprocessing import StandardScaler\n",
    "\n",
    "scaler = StandardScaler()\n",
    "# fit only on X_train\n",
    "scaler.fit(X_train)\n",
    "\n",
    "# scale both X_train and X_test\n",
    "X_train = scaler.transform(X_train)\n",
    "X_test = scaler.transform(X_test)\n",
    "\n",
    "#Training and Predicting for Classification\n",
    "from sklearn.neighbors import KNeighborsClassifier\n",
    "\n",
    "classifier = KNeighborsClassifier()\n",
    "classifier.fit(X_train, y_train)\n",
    "\n",
    "#predict classes of the test data\n",
    "y_pred1 = classifier.predict(X_test)"
   ]
  },
  {
   "cell_type": "code",
   "execution_count": 4,
   "id": "e90d261a",
   "metadata": {},
   "outputs": [
    {
     "name": "stdout",
     "output_type": "stream",
     "text": [
      "0.9555555555555556\n"
     ]
    }
   ],
   "source": [
    "#Evaluating KNN for Classification\n",
    "\n",
    "#Accuracy\n",
    "\n",
    "acc =  classifier.score(X_test, y_test)\n",
    "print(acc)"
   ]
  },
  {
   "cell_type": "code",
   "execution_count": 5,
   "id": "110e0051",
   "metadata": {},
   "outputs": [
    {
     "name": "stdout",
     "output_type": "stream",
     "text": [
      "              precision    recall  f1-score   support\n",
      "\n",
      "           1       0.94      1.00      0.97        15\n",
      "           2       1.00      0.89      0.94        18\n",
      "           3       0.92      1.00      0.96        12\n",
      "\n",
      "    accuracy                           0.96        45\n",
      "   macro avg       0.95      0.96      0.96        45\n",
      "weighted avg       0.96      0.96      0.96        45\n",
      "\n"
     ]
    },
    {
     "data": {
      "image/png": "[encoded data removed]",
      "text/plain": [
       "<Figure size 640x480 with 2 Axes>"
      ]
     },
     "metadata": {},
     "output_type": "display_data"
    }
   ],
   "source": [
    "#Confussion matrix\n",
    "\n",
    "from sklearn.metrics import classification_report, confusion_matrix\n",
    "#importing Seaborn's to use the heatmap \n",
    "import seaborn as sns\n",
    "\n",
    "# Adding classes names for better interpretation\n",
    "classes_names = ['Alcohol 1','Alcohol 2','Alcohol 3']\n",
    "cm = pd.DataFrame(confusion_matrix(y_test, y_pred1), \n",
    "                  columns=classes_names, index = classes_names)\n",
    "                  \n",
    "# Seaborn's heatmap to better visualize the confusion matrix\n",
    "sns.heatmap(cm, annot=True, fmt='d');\n",
    "\n",
    "print(classification_report(y_test, y_pred1))"
   ]
  },
  {
   "cell_type": "code",
   "execution_count": 6,
   "id": "e8b2f0ec",
   "metadata": {},
   "outputs": [],
   "source": [
    "#Modelo2\n",
    "#SVM Model\n",
    "\n",
    "#Import svm model\n",
    "from sklearn import svm\n",
    "\n",
    "#Create a svm Classifier\n",
    "clf = svm.SVC(kernel='linear') # Linear Kernel\n",
    "\n",
    "#Train the model using the training sets, which were already prepared for the previous model\n",
    "clf.fit(X_train, y_train)\n",
    "\n",
    "#Predict the response for test dataset\n",
    "y_pred2 = clf.predict(X_test)"
   ]
  },
  {
   "cell_type": "code",
   "execution_count": 7,
   "id": "6b05b747",
   "metadata": {},
   "outputs": [
    {
     "name": "stdout",
     "output_type": "stream",
     "text": [
      "Accuracy: 0.9777777777777777\n"
     ]
    }
   ],
   "source": [
    "# Evaluating the model\n",
    "\n",
    "#Import scikit-learn metrics module for accuracy calculation\n",
    "from sklearn import metrics\n",
    "\n",
    "# Model Accuracy: how often is the classifier correct?\n",
    "print(\"Accuracy:\",metrics.accuracy_score(y_test, y_pred2))"
   ]
  },
  {
   "cell_type": "code",
   "execution_count": 8,
   "id": "f13c0f01",
   "metadata": {},
   "outputs": [
    {
     "name": "stdout",
     "output_type": "stream",
     "text": [
      "              precision    recall  f1-score   support\n",
      "\n",
      "           1       1.00      1.00      1.00        15\n",
      "           2       1.00      0.94      0.97        18\n",
      "           3       0.92      1.00      0.96        12\n",
      "\n",
      "    accuracy                           0.98        45\n",
      "   macro avg       0.97      0.98      0.98        45\n",
      "weighted avg       0.98      0.98      0.98        45\n",
      "\n"
     ]
    },
    {
     "data": {
      "image/png": "[encoded data removed]",
      "text/plain": [
       "<Figure size 640x480 with 2 Axes>"
      ]
     },
     "metadata": {},
     "output_type": "display_data"
    }
   ],
   "source": [
    "# Adding classes names for better interpretation\n",
    "classes_names = ['Alcohol 1','Alcohol 2','Alcohol 3']\n",
    "cm = pd.DataFrame(confusion_matrix(y_test, y_pred2), \n",
    "                  columns=classes_names, index = classes_names)\n",
    "                  \n",
    "# Seaborn's heatmap to better visualize the confusion matrix\n",
    "sns.heatmap(cm, annot=True, fmt='d');\n",
    "\n",
    "print(classification_report(y_test, y_pred2))"
   ]
  },
  {
   "cell_type": "markdown",
   "id": "e14693e9",
   "metadata": {},
   "source": [
    "# - Exercici 3\n",
    "\n",
    "Entrena’ls usant els diferents paràmetres que admeten per tal de millorar-ne la predicció."
   ]
  },
  {
   "cell_type": "code",
   "execution_count": 9,
   "id": "eb5e424a",
   "metadata": {},
   "outputs": [],
   "source": [
    "#Modelo KNN\n",
    "\n",
    "#Finding the Best K for KNN Classification\n",
    "from sklearn.metrics import f1_score\n",
    "\n",
    "f1s = []\n",
    "    \n",
    "# Calculating f1 score for K values between 1 and 40\n",
    "for i in range(1, 40):\n",
    "    knn = KNeighborsClassifier(n_neighbors=i)\n",
    "    knn.fit(X_train, y_train)\n",
    "    pred_i = knn.predict(X_test)\n",
    "    # using average='weighted' to calculate a weighted average for the classes \n",
    "    f1s.append(f1_score(y_test, pred_i, average='weighted'))"
   ]
  },
  {
   "cell_type": "code",
   "execution_count": 10,
   "id": "c3416d80",
   "metadata": {},
   "outputs": [
    {
     "data": {
      "text/plain": [
       "Text(0, 0.5, 'F1 Score')"
      ]
     },
     "execution_count": 10,
     "metadata": {},
     "output_type": "execute_result"
    },
    {
     "data": {
      "image/png": "[encoded data removed]",
      "text/plain": [
       "<Figure size 1200x600 with 1 Axes>"
      ]
     },
     "metadata": {},
     "output_type": "display_data"
    }
   ],
   "source": [
    "import matplotlib.pyplot as plt \n",
    "\n",
    "plt.figure(figsize=(12, 6))\n",
    "plt.plot(range(1, 40), f1s, color='red', linestyle='dashed', marker='o',\n",
    "         markerfacecolor='blue', markersize=10)\n",
    "plt.title('F1 Score K Value')\n",
    "plt.xlabel('K Value')\n",
    "plt.ylabel('F1 Score')"
   ]
  },
  {
   "cell_type": "markdown",
   "id": "0cfccfcb",
   "metadata": {},
   "source": [
    "From the output, we can see that the f1-score is the highest when the value of the K is between [6,11] & [23,27] & 40. Let's retrain our classifier with 6 neighbors and see what it does to our classification report results:"
   ]
  },
  {
   "cell_type": "code",
   "execution_count": 11,
   "id": "e782537f",
   "metadata": {},
   "outputs": [
    {
     "name": "stdout",
     "output_type": "stream",
     "text": [
      "              precision    recall  f1-score   support\n",
      "\n",
      "           1       0.94      1.00      0.97        15\n",
      "           2       1.00      0.94      0.97        18\n",
      "           3       1.00      1.00      1.00        12\n",
      "\n",
      "    accuracy                           0.98        45\n",
      "   macro avg       0.98      0.98      0.98        45\n",
      "weighted avg       0.98      0.98      0.98        45\n",
      "\n"
     ]
    }
   ],
   "source": [
    "classifier6 = KNeighborsClassifier(n_neighbors=6)\n",
    "classifier6.fit(X_train, y_train)\n",
    "y_pred6 = classifier6.predict(X_test)\n",
    "print(classification_report(y_test, y_pred6))"
   ]
  },
  {
   "cell_type": "code",
   "execution_count": 16,
   "id": "9dc5e47c",
   "metadata": {},
   "outputs": [
    {
     "name": "stdout",
     "output_type": "stream",
     "text": [
      "Mejor combinación de hiperparámetros: {'C': 1, 'gamma': 0.1, 'kernel': 'linear'}\n",
      "Precisión en el conjunto de entrenamiento: 0.9772079772079773\n",
      "Precisión: 97.78%\n",
      "Precisión del modelo SVM Classifier afinado: 97.78%\n"
     ]
    }
   ],
   "source": [
    "#Modelo SVM\n",
    "\n",
    "# Realizar la búsqueda de la mejor combinación de hiperparámetros utilizando GridSearchCV\n",
    "\n",
    "from sklearn.model_selection import GridSearchCV\n",
    "parameters = {'kernel': ['linear', 'poly', 'rbf', 'sigmoid'], \n",
    "              'C': [0.1, 1, 10, 100], \n",
    "              'gamma': [0.1, 1, 10, 100]}\n",
    "grid = GridSearchCV(clf, parameters, cv=5)\n",
    "grid.fit(X_train, y_train)\n",
    "\n",
    "# Imprimir los resultados\n",
    "print(\"Mejor combinación de hiperparámetros:\", grid.best_params_)\n",
    "print(\"Precisión en el conjunto de entrenamiento:\", grid.best_score_)\n",
    "\n",
    "# Predecir el conjunto de prueba utilizando el modelo ajustado\n",
    "y_pred = grid.predict(X_test)\n",
    "\n",
    "# Calcular la precisión en el conjunto de prueba\n",
    "from sklearn.metrics import accuracy_score\n",
    "y_pred = clf.predict(X_test)\n",
    "accuracy = accuracy_score(y_test, y_pred)\n",
    "print(\"Precisión: {:.2f}%\".format(accuracy * 100))\n",
    "\n",
    "# Crear un nuevo modelo SVM Classifier con los mejores parámetros encontrados\n",
    "svm_model_tuned = svm.SVC(**grid.best_params_)\n",
    "svm_model_tuned.fit(X_train, y_train)\n",
    "\n",
    "# Predecir las etiquetas de clase para el conjunto de pruebas utilizando el modelo afinado\n",
    "y_pred_ = svm_model_tuned.predict(X_test)\n",
    "\n",
    "# Calcular la precisión del modelo afinado\n",
    "accuracy = accuracy_score(y_test, y_pred_)\n",
    "\n",
    "# Imprimir la precisión del modelo afinado y los mejores parámetros\n",
    "print(\"Precisión del modelo SVM Classifier afinado: {:.2f}%\".format(accuracy*100))"
   ]
  },
  {
   "cell_type": "markdown",
   "id": "87fa1386",
   "metadata": {},
   "source": [
    "Para el modelo de clasificacion KNN hemos visto como encontrando el mejor valor del parametro k, en este caso 6, la precision del modelo mejora de 96% a 98%.\n",
    "\n",
    "En el caso del modelo SVM a pesar de haberlo probado con los mejores parametros posibles la precision se ha mantenido en 98% en ambos casos, lo que nos dice que el primer modelo creado ya era optimo."
   ]
  },
  {
   "cell_type": "markdown",
   "id": "42da04cd",
   "metadata": {},
   "source": [
    "# - Exercici 4\n",
    "\n",
    "Compara el seu rendiment fent servir l’aproximació traint/test o cross-validation."
   ]
  },
  {
   "cell_type": "code",
   "execution_count": 21,
   "id": "bdb13abd",
   "metadata": {},
   "outputs": [
    {
     "name": "stdout",
     "output_type": "stream",
     "text": [
      "Precisión SVM: 0.961111111111111\n",
      "Precisión KNN: 0.6914285714285714\n"
     ]
    }
   ],
   "source": [
    "# Usamos la validación cruzada para evaluar el rendimiento de los clasificadores\n",
    "from sklearn.model_selection import cross_val_score\n",
    "\n",
    "scores_svc = cross_val_score(svm_model_tuned, X, y, cv=5)\n",
    "scores_knn = cross_val_score(classifier6, X, y, cv=5)\n",
    "\n",
    "# Mostramos los resultados de la validación cruzada\n",
    "print(f\"Precisión SVM: {scores_svc.mean()}\")\n",
    "print(f\"Precisión KNN: {scores_knn.mean()}\")"
   ]
  },
  {
   "cell_type": "markdown",
   "id": "36549595",
   "metadata": {},
   "source": [
    "# - Exercici 5\n",
    "\n",
    "Aplica algun procés d'enginyeria per millorar els resultats (normalització, estandardització, mostreig...)"
   ]
  },
  {
   "cell_type": "markdown",
   "id": "ca8b3d93",
   "metadata": {},
   "source": [
    "En el primer modelo KNN ya se normalizó y estandarizo la muestra con StandardScaler(), fit(), transform().\n",
    "\n",
    "La variable X_train, estandarazida y normalizada, se ha utilizado para el resto de modelos, por lo que se ha trabajado durante todos los ejercicios con este paso ya realizado.\n",
    "La variable X_test tambien fue escalada."
   ]
  }
 ],
 "metadata": {
  "kernelspec": {
   "display_name": "Python 3 (ipykernel)",
   "language": "python",
   "name": "python3"
  },
  "language_info": {
   "codemirror_mode": {
    "name": "ipython",
    "version": 3
   },
   "file_extension": ".py",
   "mimetype": "text/x-python",
   "name": "python",
   "nbconvert_exporter": "python",
   "pygments_lexer": "ipython3",
   "version": "3.9.13"
  }
 },
 "nbformat": 4,
 "nbformat_minor": 5
}
